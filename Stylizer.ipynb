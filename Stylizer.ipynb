{
  "cells": [
    {
      "cell_type": "markdown",
      "metadata": {
        "id": "XGhEipRHCigm"
      },
      "source": [
        "#Neural Style Transfer \n",
        "This notebook provides complete code on stylizing an image using a pre-trained model from tensorflow model hub.\n",
        "\n",
        "You can learn more about image stylization in here: https://arxiv.org/abs/1705.06830\n",
        "\n",
        "The Notebook is divided into 4 parts:\n",
        "1. Installing dependincies and pretrained model\n",
        "2. Image Preprocessing\n",
        "3. Vizualizing the output\n",
        "4. Stylizing the image\n",
        "\n",
        "---"
      ]
    },
    {
      "cell_type": "markdown",
      "metadata": {
        "id": "yjaeuciPEcLE"
      },
      "source": [
        "#Import Dependencies and model\n",
        "The pre-trained model is located in tensorflow hub; therefore tensorflow_hub needs to be imported"
      ]
    },
    {
      "cell_type": "code",
      "execution_count": 24,
      "metadata": {
        "id": "-ySJNGLJCwkN"
      },
      "outputs": [],
      "source": [
        "import tensorflow_hub as hub\n",
        "import tensorflow as tf\n",
        "import matplotlib.pyplot as plt\n",
        "import numpy as np\n",
        "import cv2\n",
        "from PIL import Image"
      ]
    },
    {
      "cell_type": "code",
      "execution_count": 4,
      "metadata": {
        "id": "YUAgvZeaE3qL"
      },
      "outputs": [],
      "source": [
        "model = hub.load('https://tfhub.dev/google/magenta/arbitrary-image-stylization-v1-256/2')"
      ]
    },
    {
      "cell_type": "code",
      "execution_count": 32,
      "metadata": {
        "id": "HGOHV902FZRD"
      },
      "outputs": [],
      "source": [
        "def load_image(image_path):\n",
        "    image = tf.io.read_file(image_path)\n",
        "    image = tf.image.decode_image(image, channels=3)\n",
        "    image = tf.image.convert_image_dtype(image, tf.float32)\n",
        "    image = image[tf.newaxis, :]\n",
        "    return image"
      ]
    },
    {
      "cell_type": "code",
      "execution_count": 76,
      "metadata": {
        "id": "YgXeW_HmHgQ9"
      },
      "outputs": [],
      "source": [
        "content_image = load_image('rew.jpeg')\n",
        "styling_image = load_image('123.jpg')"
      ]
    },
    {
      "cell_type": "markdown",
      "metadata": {
        "id": "XxGBou_lJFLg"
      },
      "source": [
        "#Visualizing the images"
      ]
    },
    {
      "cell_type": "code",
      "execution_count": null,
      "metadata": {
        "colab": {
          "base_uri": "https://localhost:8080/",
          "height": 286
        },
        "id": "KeoBt1J9IUn6",
        "outputId": "b68d41ca-114e-43fe-cafa-870180cdd100"
      },
      "outputs": [],
      "source": [
        "plt.imshow(np.squeeze(content_image))"
      ]
    },
    {
      "cell_type": "code",
      "execution_count": null,
      "metadata": {
        "colab": {
          "base_uri": "https://localhost:8080/",
          "height": 286
        },
        "id": "yJpqo6rUIp14",
        "outputId": "4660756a-4151-4447-d9ca-3ed8c9942c45"
      },
      "outputs": [],
      "source": [
        "plt.imshow(np.squeeze(styling_image))"
      ]
    },
    {
      "cell_type": "markdown",
      "metadata": {
        "id": "jsfQHW8_KEuy"
      },
      "source": [
        "#Stylizing the image"
      ]
    },
    {
      "cell_type": "code",
      "execution_count": 79,
      "metadata": {
        "id": "Elc5_fGKJo-I"
      },
      "outputs": [],
      "source": [
        "stylized_image = model(tf.constant(content_image), tf.constant(styling_image))[0]"
      ]
    },
    {
      "cell_type": "code",
      "execution_count": null,
      "metadata": {
        "colab": {
          "base_uri": "https://localhost:8080/",
          "height": 286
        },
        "id": "DyDo4IHsKNam",
        "outputId": "88534213-b5b6-4f38-b8c2-fa61ec9faa26"
      },
      "outputs": [],
      "source": [
        "plt.imshow(np.squeeze(stylized_image))"
      ]
    },
    {
      "cell_type": "code",
      "execution_count": 80,
      "metadata": {
        "id": "WyRiiucWKSAM"
      },
      "outputs": [],
      "source": []
    }
  ],
  "metadata": {
    "colab": {
      "provenance": []
    },
    "kernelspec": {
      "display_name": "Python 3",
      "name": "python3"
    },
    "language_info": {
      "name": "python"
    }
  },
  "nbformat": 4,
  "nbformat_minor": 0
}
